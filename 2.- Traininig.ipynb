{
 "cells": [
  {
   "cell_type": "code",
   "execution_count": 2,
   "id": "d5abff4b",
   "metadata": {},
   "outputs": [],
   "source": [
    "import pandas as pd\n",
    "import numpy as np"
   ]
  },
  {
   "cell_type": "code",
   "execution_count": 4,
   "id": "ba9621ec",
   "metadata": {},
   "outputs": [
    {
     "data": {
      "text/html": [
       "<div>\n",
       "<style scoped>\n",
       "    .dataframe tbody tr th:only-of-type {\n",
       "        vertical-align: middle;\n",
       "    }\n",
       "\n",
       "    .dataframe tbody tr th {\n",
       "        vertical-align: top;\n",
       "    }\n",
       "\n",
       "    .dataframe thead th {\n",
       "        text-align: right;\n",
       "    }\n",
       "</style>\n",
       "<table border=\"1\" class=\"dataframe\">\n",
       "  <thead>\n",
       "    <tr style=\"text-align: right;\">\n",
       "      <th></th>\n",
       "      <th>id</th>\n",
       "      <th>carat</th>\n",
       "      <th>cut</th>\n",
       "      <th>color</th>\n",
       "      <th>clarity</th>\n",
       "      <th>depth</th>\n",
       "      <th>table</th>\n",
       "      <th>price</th>\n",
       "    </tr>\n",
       "  </thead>\n",
       "  <tbody>\n",
       "    <tr>\n",
       "      <th>0</th>\n",
       "      <td>0</td>\n",
       "      <td>1.14</td>\n",
       "      <td>5</td>\n",
       "      <td>4</td>\n",
       "      <td>9</td>\n",
       "      <td>61.0</td>\n",
       "      <td>56.0</td>\n",
       "      <td>9013</td>\n",
       "    </tr>\n",
       "    <tr>\n",
       "      <th>1</th>\n",
       "      <td>1</td>\n",
       "      <td>0.76</td>\n",
       "      <td>5</td>\n",
       "      <td>3</td>\n",
       "      <td>7</td>\n",
       "      <td>62.7</td>\n",
       "      <td>57.0</td>\n",
       "      <td>2692</td>\n",
       "    </tr>\n",
       "    <tr>\n",
       "      <th>2</th>\n",
       "      <td>2</td>\n",
       "      <td>0.84</td>\n",
       "      <td>5</td>\n",
       "      <td>4</td>\n",
       "      <td>8</td>\n",
       "      <td>61.4</td>\n",
       "      <td>56.0</td>\n",
       "      <td>4372</td>\n",
       "    </tr>\n",
       "    <tr>\n",
       "      <th>3</th>\n",
       "      <td>3</td>\n",
       "      <td>1.55</td>\n",
       "      <td>5</td>\n",
       "      <td>3</td>\n",
       "      <td>8</td>\n",
       "      <td>62.0</td>\n",
       "      <td>57.0</td>\n",
       "      <td>13665</td>\n",
       "    </tr>\n",
       "    <tr>\n",
       "      <th>4</th>\n",
       "      <td>4</td>\n",
       "      <td>0.30</td>\n",
       "      <td>5</td>\n",
       "      <td>4</td>\n",
       "      <td>5</td>\n",
       "      <td>61.9</td>\n",
       "      <td>57.0</td>\n",
       "      <td>422</td>\n",
       "    </tr>\n",
       "  </tbody>\n",
       "</table>\n",
       "</div>"
      ],
      "text/plain": [
       "   id  carat  cut  color  clarity  depth  table  price\n",
       "0   0   1.14    5      4        9   61.0   56.0   9013\n",
       "1   1   0.76    5      3        7   62.7   57.0   2692\n",
       "2   2   0.84    5      4        8   61.4   56.0   4372\n",
       "3   3   1.55    5      3        8   62.0   57.0  13665\n",
       "4   4   0.30    5      4        5   61.9   57.0    422"
      ]
     },
     "execution_count": 4,
     "metadata": {},
     "output_type": "execute_result"
    }
   ],
   "source": [
    "df = pd.read_csv(\"Data/clean1.csv\")\n",
    "df.head()"
   ]
  },
  {
   "cell_type": "code",
   "execution_count": 6,
   "id": "fd815b6e",
   "metadata": {},
   "outputs": [],
   "source": [
    "from sklearn.model_selection import train_test_split"
   ]
  },
  {
   "cell_type": "code",
   "execution_count": 7,
   "id": "7b0b7f17",
   "metadata": {},
   "outputs": [],
   "source": [
    "y=df[\"price\"]\n",
    "X=df.drop(columns=[\"price\",\"id\"])\n",
    "X_train, X_test, y_train, y_test = train_test_split(X,y, test_size=0.2)"
   ]
  },
  {
   "cell_type": "code",
   "execution_count": 8,
   "id": "060d9fa2",
   "metadata": {},
   "outputs": [
    {
     "data": {
      "text/plain": [
       "(40455, 6)"
      ]
     },
     "execution_count": 8,
     "metadata": {},
     "output_type": "execute_result"
    }
   ],
   "source": [
    "X.shape"
   ]
  },
  {
   "cell_type": "code",
   "execution_count": 9,
   "id": "751ac3f3",
   "metadata": {},
   "outputs": [
    {
     "data": {
      "text/plain": [
       "(40455,)"
      ]
     },
     "execution_count": 9,
     "metadata": {},
     "output_type": "execute_result"
    }
   ],
   "source": [
    "y.shape"
   ]
  },
  {
   "cell_type": "code",
   "execution_count": null,
   "id": "d7ac9499",
   "metadata": {},
   "outputs": [],
   "source": []
  },
  {
   "cell_type": "code",
   "execution_count": 13,
   "id": "263a42d8",
   "metadata": {},
   "outputs": [],
   "source": [
    "from sklearn.linear_model import LinearRegression\n",
    "from sklearn.tree import DecisionTreeRegressor\n",
    "from sklearn.neighbors import KNeighborsRegressor\n",
    "from sklearn.ensemble import GradientBoostingRegressor\n",
    "from sklearn.ensemble import RandomForestRegressor\n",
    "from sklearn.metrics import mean_squared_error\n"
   ]
  },
  {
   "cell_type": "code",
   "execution_count": 14,
   "id": "5bc5f7a0",
   "metadata": {},
   "outputs": [],
   "source": [
    "models={\n",
    "    \"Linear\" : LinearRegression(),\n",
    "    \"Dec Tree\" : DecisionTreeRegressor(),\n",
    "    \"KNeighb\" : KNeighborsRegressor(),\n",
    "    \"Grad\" : GradientBoostingRegressor(),\n",
    "    \"Random Forest\" : RandomForestRegressor()\n",
    "}"
   ]
  },
  {
   "cell_type": "code",
   "execution_count": 15,
   "id": "08f88178",
   "metadata": {},
   "outputs": [
    {
     "name": "stdout",
     "output_type": "stream",
     "text": [
      "------Linear------\n",
      "RMSE :  1255.545434743393\n",
      "_\n",
      "------Dec Tree------\n",
      "RMSE :  712.3997269616142\n",
      "_\n",
      "------KNeighb------\n",
      "RMSE :  1930.56842562406\n",
      "_\n",
      "------Grad------\n",
      "RMSE :  608.8667594139549\n",
      "_\n",
      "------Random Forest------\n",
      "RMSE :  547.297739118158\n",
      "_\n"
     ]
    }
   ],
   "source": [
    "for name, model in models.items():\n",
    "    model.fit(X_train, y_train)\n",
    "    y_pred = model.predict(X_test)\n",
    "    print(f\"------{name}------\")\n",
    "    print('RMSE : ', np.sqrt(mean_squared_error(y_test, y_pred)))\n",
    "    print(\"_\")"
   ]
  },
  {
   "cell_type": "code",
   "execution_count": null,
   "id": "05ae8e69",
   "metadata": {},
   "outputs": [],
   "source": []
  },
  {
   "cell_type": "code",
   "execution_count": 17,
   "id": "6cf91373",
   "metadata": {
    "scrolled": true
   },
   "outputs": [
    {
     "name": "stdout",
     "output_type": "stream",
     "text": [
      "Max Depth = 1  -->  RMSE:  2486.4103301309638\n",
      "Max Depth = 2  -->  RMSE:  1671.1426815066864\n",
      "Max Depth = 3  -->  RMSE:  1356.8185339228803\n",
      "Max Depth = 4  -->  RMSE:  1160.658175869778\n",
      "Max Depth = 5  -->  RMSE:  992.1395677973164\n",
      "Max Depth = 6  -->  RMSE:  853.8736702550822\n",
      "Max Depth = 7  -->  RMSE:  759.3035752391564\n",
      "Max Depth = 8  -->  RMSE:  695.7495157169509\n",
      "Max Depth = 9  -->  RMSE:  635.0020444432281\n",
      "Max Depth = 10  -->  RMSE:  607.6057344393325\n",
      "Max Depth = 11  -->  RMSE:  609.110152394459\n",
      "Max Depth = 12  -->  RMSE:  621.7984716243036\n",
      "Max Depth = 13  -->  RMSE:  638.9194150697227\n",
      "Max Depth = 14  -->  RMSE:  657.0538014765027\n"
     ]
    }
   ],
   "source": [
    "for i in range (1,15):\n",
    "    tree = DecisionTreeRegressor(max_depth=i)\n",
    "    tree.fit(X_train,y_train)\n",
    "    y_pred = tree.predict(X_test)\n",
    "    print(f\"Max Depth = {i}  -->  RMSE: \", np.sqrt(mean_squared_error(y_test,y_pred)))"
   ]
  },
  {
   "cell_type": "code",
   "execution_count": null,
   "id": "457cac43",
   "metadata": {},
   "outputs": [],
   "source": []
  },
  {
   "cell_type": "code",
   "execution_count": 18,
   "id": "51d7d7b5",
   "metadata": {},
   "outputs": [
    {
     "name": "stdout",
     "output_type": "stream",
     "text": [
      "n_estimators = 1000  -->  RMSE:  546.7668605579724\n",
      "n_estimators = 1100  -->  RMSE:  546.5015696793434\n",
      "n_estimators = 1200  -->  RMSE:  547.6642706716153\n"
     ]
    }
   ],
   "source": [
    "for i in [1000,1100,1200]:\n",
    "    grad = GradientBoostingRegressor(n_estimators=i)\n",
    "    grad.fit(X_train,y_train)\n",
    "    y_pred = grad.predict(X_test)\n",
    "    print(f\"n_estimators = {i}  -->  RMSE: \", np.sqrt(mean_squared_error(y_test,y_pred)))"
   ]
  },
  {
   "cell_type": "code",
   "execution_count": null,
   "id": "b12f5379",
   "metadata": {},
   "outputs": [],
   "source": []
  },
  {
   "cell_type": "code",
   "execution_count": 19,
   "id": "87e5642a",
   "metadata": {},
   "outputs": [
    {
     "name": "stdout",
     "output_type": "stream",
     "text": [
      "Max Depth = 12  -->  RMSE:  537.6456610231786\n",
      "Max Depth = 13  -->  RMSE:  537.7821738974774\n",
      "Max Depth = 14  -->  RMSE:  536.6811311655384\n",
      "Max Depth = 15  -->  RMSE:  540.0028741255622\n",
      "Max Depth = 16  -->  RMSE:  538.0733309111358\n",
      "Max Depth = 17  -->  RMSE:  542.2606078698295\n",
      "Max Depth = 18  -->  RMSE:  542.2831443566719\n",
      "Max Depth = 19  -->  RMSE:  547.444899199351\n",
      "Max Depth = 20  -->  RMSE:  545.5679644682621\n",
      "Max Depth = 21  -->  RMSE:  543.1452749605526\n",
      "Max Depth = 22  -->  RMSE:  546.0383866661322\n",
      "Max Depth = 23  -->  RMSE:  546.4278180448731\n",
      "Max Depth = 24  -->  RMSE:  544.6579838580791\n"
     ]
    }
   ],
   "source": [
    "for i in range(12,25):\n",
    "    forest = RandomForestRegressor(max_depth=i)\n",
    "    forest.fit(X_train,y_train)\n",
    "    y_pred = forest.predict(X_test)\n",
    "    print(f\"Max Depth = {i}  -->  RMSE: \", np.sqrt(mean_squared_error(y_test,y_pred)))"
   ]
  },
  {
   "cell_type": "code",
   "execution_count": 25,
   "id": "f9709e40",
   "metadata": {},
   "outputs": [
    {
     "name": "stdout",
     "output_type": "stream",
     "text": [
      "Max Depth=14, n_stimators = 80  -->  RMSE:  543.333522718814\n",
      "Max Depth=14, n_stimators = 90  -->  RMSE:  536.7783099126824\n",
      "Max Depth=14, n_stimators = 100  -->  RMSE:  535.6205954105397\n",
      "Max Depth=14, n_stimators = 110  -->  RMSE:  538.6089973791865\n",
      "Max Depth=14, n_stimators = 120  -->  RMSE:  538.4180741463022\n",
      "Max Depth=14, n_stimators = 130  -->  RMSE:  537.9727293413971\n",
      "Max Depth=14, n_stimators = 140  -->  RMSE:  539.3897830357942\n"
     ]
    }
   ],
   "source": [
    "for i in [80,90,100,110,120,130,140]:\n",
    "    forest = RandomForestRegressor(max_depth=14,n_estimators=i)\n",
    "    forest.fit(X_train,y_train)\n",
    "    y_pred = forest.predict(X_test)\n",
    "    print(f\"Max Depth=14, n_stimators = {i}  -->  RMSE: \", np.sqrt(mean_squared_error(y_test,y_pred)))"
   ]
  },
  {
   "cell_type": "markdown",
   "id": "598794fe",
   "metadata": {},
   "source": [
    "#### Best RMSE comes with max_depth=14 and n_estimators=100"
   ]
  },
  {
   "cell_type": "markdown",
   "id": "d7f42f98",
   "metadata": {},
   "source": [
    "## Apply model to the dataset"
   ]
  },
  {
   "cell_type": "code",
   "execution_count": 27,
   "id": "62c81e69",
   "metadata": {},
   "outputs": [],
   "source": [
    "ranforest = RandomForestRegressor()"
   ]
  },
  {
   "cell_type": "code",
   "execution_count": 28,
   "id": "8b8e8b45",
   "metadata": {},
   "outputs": [
    {
     "data": {
      "text/plain": [
       "RandomForestRegressor()"
      ]
     },
     "execution_count": 28,
     "metadata": {},
     "output_type": "execute_result"
    }
   ],
   "source": [
    "ranforest.fit(X_train, y_train)"
   ]
  },
  {
   "cell_type": "code",
   "execution_count": 29,
   "id": "16cb2379",
   "metadata": {},
   "outputs": [],
   "source": [
    "y_pred = ranforest.predict(X_test)"
   ]
  },
  {
   "cell_type": "code",
   "execution_count": 33,
   "id": "27254bc6",
   "metadata": {
    "scrolled": true
   },
   "outputs": [
    {
     "name": "stdout",
     "output_type": "stream",
     "text": [
      "RMSE:  548.0354922408554\n"
     ]
    }
   ],
   "source": [
    "from sklearn import metrics\n",
    "print('RMSE: ', np.sqrt(metrics.mean_squared_error(y_test, y_pred)))"
   ]
  },
  {
   "cell_type": "code",
   "execution_count": null,
   "id": "583a6113",
   "metadata": {},
   "outputs": [],
   "source": []
  },
  {
   "cell_type": "code",
   "execution_count": 36,
   "id": "13d4c7fb",
   "metadata": {},
   "outputs": [],
   "source": [
    "from sklearn.preprocessing import StandardScaler\n",
    "from sklearn.preprocessing import MinMaxScaler\n",
    "from sklearn.ensemble import RandomForestRegressor\n",
    "from sklearn.model_selection import GridSearchCV\n",
    "from sklearn.ensemble import RandomForestClassifier"
   ]
  },
  {
   "cell_type": "code",
   "execution_count": 49,
   "id": "8ccb001d",
   "metadata": {},
   "outputs": [],
   "source": [
    "params = {'max_depth': [15,16],\n",
    " 'bootstrap': [True, False],\n",
    " 'max_features': ['auto', 'sqrt'],\n",
    " 'min_samples_leaf': [3],\n",
    " 'n_estimators': [100]}"
   ]
  },
  {
   "cell_type": "code",
   "execution_count": 105,
   "id": "cbea167f",
   "metadata": {},
   "outputs": [],
   "source": [
    "params2 = {'max_depth': [14,15,16,17],\n",
    " 'bootstrap': [True, False],\n",
    " 'max_features': ['auto', 'sqrt'],\n",
    " 'min_samples_leaf': [2,3],\n",
    " 'n_estimators': [100]}"
   ]
  },
  {
   "cell_type": "code",
   "execution_count": 126,
   "id": "6d8e8ed2",
   "metadata": {},
   "outputs": [],
   "source": [
    "params3 = {'max_depth': [14,15],\n",
    " 'max_features': ['auto'],\n",
    " 'min_samples_leaf': [3,4,5],\n",
    " 'n_estimators': [100]}"
   ]
  },
  {
   "cell_type": "code",
   "execution_count": 146,
   "id": "c2f92c37",
   "metadata": {},
   "outputs": [],
   "source": [
    "params4 = {'max_depth': [15,200],\n",
    " 'max_features': ['auto'],\n",
    " 'min_samples_leaf': [5,6,7],\n",
    " 'n_estimators': [100]}"
   ]
  },
  {
   "cell_type": "code",
   "execution_count": 50,
   "id": "f5f4abb1",
   "metadata": {},
   "outputs": [],
   "source": [
    "grid = GridSearchCV(forest, params, verbose=1)"
   ]
  },
  {
   "cell_type": "code",
   "execution_count": 106,
   "id": "49ae4eb8",
   "metadata": {},
   "outputs": [],
   "source": [
    "grid2 = GridSearchCV(forest, params2, verbose=1)"
   ]
  },
  {
   "cell_type": "code",
   "execution_count": 127,
   "id": "0ee79d8e",
   "metadata": {},
   "outputs": [],
   "source": [
    "grid3 = GridSearchCV(forest, params3, verbose=1)"
   ]
  },
  {
   "cell_type": "code",
   "execution_count": 147,
   "id": "cb419798",
   "metadata": {},
   "outputs": [],
   "source": [
    "grid4 = GridSearchCV(forest, params4, verbose=1)"
   ]
  },
  {
   "cell_type": "code",
   "execution_count": 51,
   "id": "111e10ac",
   "metadata": {
    "collapsed": true
   },
   "outputs": [
    {
     "name": "stdout",
     "output_type": "stream",
     "text": [
      "Fitting 5 folds for each of 8 candidates, totalling 40 fits\n"
     ]
    },
    {
     "data": {
      "text/plain": [
       "GridSearchCV(estimator=RandomForestRegressor(max_depth=14, n_estimators=140),\n",
       "             param_grid={'bootstrap': [True, False], 'max_depth': [15, 16],\n",
       "                         'max_features': ['auto', 'sqrt'],\n",
       "                         'min_samples_leaf': [3], 'n_estimators': [100]},\n",
       "             verbose=1)"
      ]
     },
     "execution_count": 51,
     "metadata": {},
     "output_type": "execute_result"
    }
   ],
   "source": [
    "grid.fit(X_train, y_train)"
   ]
  },
  {
   "cell_type": "code",
   "execution_count": 108,
   "id": "0c95d0ed",
   "metadata": {
    "collapsed": true
   },
   "outputs": [
    {
     "name": "stdout",
     "output_type": "stream",
     "text": [
      "Fitting 5 folds for each of 32 candidates, totalling 160 fits\n",
      "[CV] END bootstrap=True, max_depth=14, max_features=auto, min_samples_leaf=2, n_estimators=100; total time=  14.8s\n",
      "[CV] END bootstrap=True, max_depth=14, max_features=auto, min_samples_leaf=2, n_estimators=100; total time=  14.7s\n",
      "[CV] END bootstrap=True, max_depth=14, max_features=auto, min_samples_leaf=2, n_estimators=100; total time=  14.6s\n",
      "[CV] END bootstrap=True, max_depth=14, max_features=auto, min_samples_leaf=2, n_estimators=100; total time=  14.6s\n",
      "[CV] END bootstrap=True, max_depth=14, max_features=auto, min_samples_leaf=2, n_estimators=100; total time=  15.2s\n",
      "[CV] END bootstrap=True, max_depth=14, max_features=auto, min_samples_leaf=3, n_estimators=100; total time=  14.1s\n",
      "[CV] END bootstrap=True, max_depth=14, max_features=auto, min_samples_leaf=3, n_estimators=100; total time=  14.1s\n",
      "[CV] END bootstrap=True, max_depth=14, max_features=auto, min_samples_leaf=3, n_estimators=100; total time=  14.7s\n",
      "[CV] END bootstrap=True, max_depth=14, max_features=auto, min_samples_leaf=3, n_estimators=100; total time=  15.1s\n",
      "[CV] END bootstrap=True, max_depth=14, max_features=auto, min_samples_leaf=3, n_estimators=100; total time=  14.9s\n",
      "[CV] END bootstrap=True, max_depth=14, max_features=sqrt, min_samples_leaf=2, n_estimators=100; total time=   6.1s\n",
      "[CV] END bootstrap=True, max_depth=14, max_features=sqrt, min_samples_leaf=2, n_estimators=100; total time=   6.2s\n",
      "[CV] END bootstrap=True, max_depth=14, max_features=sqrt, min_samples_leaf=2, n_estimators=100; total time=   6.2s\n",
      "[CV] END bootstrap=True, max_depth=14, max_features=sqrt, min_samples_leaf=2, n_estimators=100; total time=   6.2s\n",
      "[CV] END bootstrap=True, max_depth=14, max_features=sqrt, min_samples_leaf=2, n_estimators=100; total time=   7.7s\n",
      "[CV] END bootstrap=True, max_depth=14, max_features=sqrt, min_samples_leaf=3, n_estimators=100; total time=   6.6s\n",
      "[CV] END bootstrap=True, max_depth=14, max_features=sqrt, min_samples_leaf=3, n_estimators=100; total time=   6.7s\n",
      "[CV] END bootstrap=True, max_depth=14, max_features=sqrt, min_samples_leaf=3, n_estimators=100; total time=   6.5s\n",
      "[CV] END bootstrap=True, max_depth=14, max_features=sqrt, min_samples_leaf=3, n_estimators=100; total time=   6.9s\n",
      "[CV] END bootstrap=True, max_depth=14, max_features=sqrt, min_samples_leaf=3, n_estimators=100; total time=   6.7s\n",
      "[CV] END bootstrap=True, max_depth=15, max_features=auto, min_samples_leaf=2, n_estimators=100; total time=  15.9s\n",
      "[CV] END bootstrap=True, max_depth=15, max_features=auto, min_samples_leaf=2, n_estimators=100; total time=  16.2s\n",
      "[CV] END bootstrap=True, max_depth=15, max_features=auto, min_samples_leaf=2, n_estimators=100; total time=  18.9s\n",
      "[CV] END bootstrap=True, max_depth=15, max_features=auto, min_samples_leaf=2, n_estimators=100; total time=  17.1s\n",
      "[CV] END bootstrap=True, max_depth=15, max_features=auto, min_samples_leaf=2, n_estimators=100; total time=  20.3s\n",
      "[CV] END bootstrap=True, max_depth=15, max_features=auto, min_samples_leaf=3, n_estimators=100; total time=  29.4s\n",
      "[CV] END bootstrap=True, max_depth=15, max_features=auto, min_samples_leaf=3, n_estimators=100; total time=  20.0s\n",
      "[CV] END bootstrap=True, max_depth=15, max_features=auto, min_samples_leaf=3, n_estimators=100; total time=  18.5s\n",
      "[CV] END bootstrap=True, max_depth=15, max_features=auto, min_samples_leaf=3, n_estimators=100; total time=  21.4s\n",
      "[CV] END bootstrap=True, max_depth=15, max_features=auto, min_samples_leaf=3, n_estimators=100; total time=  25.2s\n",
      "[CV] END bootstrap=True, max_depth=15, max_features=sqrt, min_samples_leaf=2, n_estimators=100; total time=  11.9s\n",
      "[CV] END bootstrap=True, max_depth=15, max_features=sqrt, min_samples_leaf=2, n_estimators=100; total time=  10.1s\n",
      "[CV] END bootstrap=True, max_depth=15, max_features=sqrt, min_samples_leaf=2, n_estimators=100; total time=  10.4s\n",
      "[CV] END bootstrap=True, max_depth=15, max_features=sqrt, min_samples_leaf=2, n_estimators=100; total time=   9.9s\n",
      "[CV] END bootstrap=True, max_depth=15, max_features=sqrt, min_samples_leaf=2, n_estimators=100; total time=   9.6s\n",
      "[CV] END bootstrap=True, max_depth=15, max_features=sqrt, min_samples_leaf=3, n_estimators=100; total time=   7.7s\n",
      "[CV] END bootstrap=True, max_depth=15, max_features=sqrt, min_samples_leaf=3, n_estimators=100; total time=   7.7s\n",
      "[CV] END bootstrap=True, max_depth=15, max_features=sqrt, min_samples_leaf=3, n_estimators=100; total time=  10.5s\n",
      "[CV] END bootstrap=True, max_depth=15, max_features=sqrt, min_samples_leaf=3, n_estimators=100; total time=  10.1s\n",
      "[CV] END bootstrap=True, max_depth=15, max_features=sqrt, min_samples_leaf=3, n_estimators=100; total time=   7.4s\n",
      "[CV] END bootstrap=True, max_depth=16, max_features=auto, min_samples_leaf=2, n_estimators=100; total time=  27.9s\n",
      "[CV] END bootstrap=True, max_depth=16, max_features=auto, min_samples_leaf=2, n_estimators=100; total time=  23.6s\n",
      "[CV] END bootstrap=True, max_depth=16, max_features=auto, min_samples_leaf=2, n_estimators=100; total time=  22.8s\n",
      "[CV] END bootstrap=True, max_depth=16, max_features=auto, min_samples_leaf=2, n_estimators=100; total time=  26.1s\n",
      "[CV] END bootstrap=True, max_depth=16, max_features=auto, min_samples_leaf=2, n_estimators=100; total time=  31.7s\n",
      "[CV] END bootstrap=True, max_depth=16, max_features=auto, min_samples_leaf=3, n_estimators=100; total time=  33.6s\n",
      "[CV] END bootstrap=True, max_depth=16, max_features=auto, min_samples_leaf=3, n_estimators=100; total time=  28.5s\n",
      "[CV] END bootstrap=True, max_depth=16, max_features=auto, min_samples_leaf=3, n_estimators=100; total time=  22.5s\n",
      "[CV] END bootstrap=True, max_depth=16, max_features=auto, min_samples_leaf=3, n_estimators=100; total time=  27.0s\n",
      "[CV] END bootstrap=True, max_depth=16, max_features=auto, min_samples_leaf=3, n_estimators=100; total time=  22.0s\n",
      "[CV] END bootstrap=True, max_depth=16, max_features=sqrt, min_samples_leaf=2, n_estimators=100; total time=   8.0s\n",
      "[CV] END bootstrap=True, max_depth=16, max_features=sqrt, min_samples_leaf=2, n_estimators=100; total time=   8.0s\n",
      "[CV] END bootstrap=True, max_depth=16, max_features=sqrt, min_samples_leaf=2, n_estimators=100; total time=   7.7s\n",
      "[CV] END bootstrap=True, max_depth=16, max_features=sqrt, min_samples_leaf=2, n_estimators=100; total time=   7.7s\n",
      "[CV] END bootstrap=True, max_depth=16, max_features=sqrt, min_samples_leaf=2, n_estimators=100; total time=   7.7s\n",
      "[CV] END bootstrap=True, max_depth=16, max_features=sqrt, min_samples_leaf=3, n_estimators=100; total time=   7.2s\n",
      "[CV] END bootstrap=True, max_depth=16, max_features=sqrt, min_samples_leaf=3, n_estimators=100; total time=   7.5s\n",
      "[CV] END bootstrap=True, max_depth=16, max_features=sqrt, min_samples_leaf=3, n_estimators=100; total time=   7.1s\n",
      "[CV] END bootstrap=True, max_depth=16, max_features=sqrt, min_samples_leaf=3, n_estimators=100; total time=   7.4s\n",
      "[CV] END bootstrap=True, max_depth=16, max_features=sqrt, min_samples_leaf=3, n_estimators=100; total time=   7.3s\n",
      "[CV] END bootstrap=True, max_depth=17, max_features=auto, min_samples_leaf=2, n_estimators=100; total time=  19.1s\n",
      "[CV] END bootstrap=True, max_depth=17, max_features=auto, min_samples_leaf=2, n_estimators=100; total time=  18.6s\n",
      "[CV] END bootstrap=True, max_depth=17, max_features=auto, min_samples_leaf=2, n_estimators=100; total time=  18.5s\n",
      "[CV] END bootstrap=True, max_depth=17, max_features=auto, min_samples_leaf=2, n_estimators=100; total time=  18.4s\n",
      "[CV] END bootstrap=True, max_depth=17, max_features=auto, min_samples_leaf=2, n_estimators=100; total time=  18.3s\n",
      "[CV] END bootstrap=True, max_depth=17, max_features=auto, min_samples_leaf=3, n_estimators=100; total time=  17.5s\n",
      "[CV] END bootstrap=True, max_depth=17, max_features=auto, min_samples_leaf=3, n_estimators=100; total time=  17.2s\n",
      "[CV] END bootstrap=True, max_depth=17, max_features=auto, min_samples_leaf=3, n_estimators=100; total time=  17.3s\n",
      "[CV] END bootstrap=True, max_depth=17, max_features=auto, min_samples_leaf=3, n_estimators=100; total time=  17.1s\n",
      "[CV] END bootstrap=True, max_depth=17, max_features=auto, min_samples_leaf=3, n_estimators=100; total time=  19.2s\n",
      "[CV] END bootstrap=True, max_depth=17, max_features=sqrt, min_samples_leaf=2, n_estimators=100; total time=  14.5s\n"
     ]
    },
    {
     "name": "stdout",
     "output_type": "stream",
     "text": [
      "[CV] END bootstrap=True, max_depth=17, max_features=sqrt, min_samples_leaf=2, n_estimators=100; total time=  13.9s\n",
      "[CV] END bootstrap=True, max_depth=17, max_features=sqrt, min_samples_leaf=2, n_estimators=100; total time=   9.4s\n",
      "[CV] END bootstrap=True, max_depth=17, max_features=sqrt, min_samples_leaf=2, n_estimators=100; total time=   8.2s\n",
      "[CV] END bootstrap=True, max_depth=17, max_features=sqrt, min_samples_leaf=2, n_estimators=100; total time=   8.2s\n",
      "[CV] END bootstrap=True, max_depth=17, max_features=sqrt, min_samples_leaf=3, n_estimators=100; total time=   8.6s\n",
      "[CV] END bootstrap=True, max_depth=17, max_features=sqrt, min_samples_leaf=3, n_estimators=100; total time=   9.0s\n",
      "[CV] END bootstrap=True, max_depth=17, max_features=sqrt, min_samples_leaf=3, n_estimators=100; total time=   7.4s\n",
      "[CV] END bootstrap=True, max_depth=17, max_features=sqrt, min_samples_leaf=3, n_estimators=100; total time=   7.5s\n",
      "[CV] END bootstrap=True, max_depth=17, max_features=sqrt, min_samples_leaf=3, n_estimators=100; total time=   9.6s\n",
      "[CV] END bootstrap=False, max_depth=14, max_features=auto, min_samples_leaf=2, n_estimators=100; total time=  29.4s\n",
      "[CV] END bootstrap=False, max_depth=14, max_features=auto, min_samples_leaf=2, n_estimators=100; total time=  24.6s\n",
      "[CV] END bootstrap=False, max_depth=14, max_features=auto, min_samples_leaf=2, n_estimators=100; total time=  27.1s\n",
      "[CV] END bootstrap=False, max_depth=14, max_features=auto, min_samples_leaf=2, n_estimators=100; total time=  27.8s\n",
      "[CV] END bootstrap=False, max_depth=14, max_features=auto, min_samples_leaf=2, n_estimators=100; total time=  25.5s\n",
      "[CV] END bootstrap=False, max_depth=14, max_features=auto, min_samples_leaf=3, n_estimators=100; total time=  27.6s\n",
      "[CV] END bootstrap=False, max_depth=14, max_features=auto, min_samples_leaf=3, n_estimators=100; total time=  28.1s\n",
      "[CV] END bootstrap=False, max_depth=14, max_features=auto, min_samples_leaf=3, n_estimators=100; total time=  24.4s\n",
      "[CV] END bootstrap=False, max_depth=14, max_features=auto, min_samples_leaf=3, n_estimators=100; total time=  26.2s\n",
      "[CV] END bootstrap=False, max_depth=14, max_features=auto, min_samples_leaf=3, n_estimators=100; total time=  28.0s\n",
      "[CV] END bootstrap=False, max_depth=14, max_features=sqrt, min_samples_leaf=2, n_estimators=100; total time=   9.5s\n",
      "[CV] END bootstrap=False, max_depth=14, max_features=sqrt, min_samples_leaf=2, n_estimators=100; total time=   9.8s\n",
      "[CV] END bootstrap=False, max_depth=14, max_features=sqrt, min_samples_leaf=2, n_estimators=100; total time=  10.7s\n",
      "[CV] END bootstrap=False, max_depth=14, max_features=sqrt, min_samples_leaf=2, n_estimators=100; total time=  11.3s\n",
      "[CV] END bootstrap=False, max_depth=14, max_features=sqrt, min_samples_leaf=2, n_estimators=100; total time=  17.6s\n",
      "[CV] END bootstrap=False, max_depth=14, max_features=sqrt, min_samples_leaf=3, n_estimators=100; total time=  10.0s\n",
      "[CV] END bootstrap=False, max_depth=14, max_features=sqrt, min_samples_leaf=3, n_estimators=100; total time=   8.9s\n",
      "[CV] END bootstrap=False, max_depth=14, max_features=sqrt, min_samples_leaf=3, n_estimators=100; total time=   8.7s\n",
      "[CV] END bootstrap=False, max_depth=14, max_features=sqrt, min_samples_leaf=3, n_estimators=100; total time=   9.7s\n",
      "[CV] END bootstrap=False, max_depth=14, max_features=sqrt, min_samples_leaf=3, n_estimators=100; total time=   9.0s\n",
      "[CV] END bootstrap=False, max_depth=15, max_features=auto, min_samples_leaf=2, n_estimators=100; total time=  25.2s\n",
      "[CV] END bootstrap=False, max_depth=15, max_features=auto, min_samples_leaf=2, n_estimators=100; total time=  22.9s\n",
      "[CV] END bootstrap=False, max_depth=15, max_features=auto, min_samples_leaf=2, n_estimators=100; total time=  22.4s\n",
      "[CV] END bootstrap=False, max_depth=15, max_features=auto, min_samples_leaf=2, n_estimators=100; total time=  28.0s\n",
      "[CV] END bootstrap=False, max_depth=15, max_features=auto, min_samples_leaf=2, n_estimators=100; total time= 1.4min\n",
      "[CV] END bootstrap=False, max_depth=15, max_features=auto, min_samples_leaf=3, n_estimators=100; total time=  46.3s\n",
      "[CV] END bootstrap=False, max_depth=15, max_features=auto, min_samples_leaf=3, n_estimators=100; total time=  58.8s\n",
      "[CV] END bootstrap=False, max_depth=15, max_features=auto, min_samples_leaf=3, n_estimators=100; total time=  45.5s\n",
      "[CV] END bootstrap=False, max_depth=15, max_features=auto, min_samples_leaf=3, n_estimators=100; total time=  29.0s\n",
      "[CV] END bootstrap=False, max_depth=15, max_features=auto, min_samples_leaf=3, n_estimators=100; total time=  28.6s\n",
      "[CV] END bootstrap=False, max_depth=15, max_features=sqrt, min_samples_leaf=2, n_estimators=100; total time=  16.5s\n",
      "[CV] END bootstrap=False, max_depth=15, max_features=sqrt, min_samples_leaf=2, n_estimators=100; total time=  13.9s\n",
      "[CV] END bootstrap=False, max_depth=15, max_features=sqrt, min_samples_leaf=2, n_estimators=100; total time=  30.8s\n",
      "[CV] END bootstrap=False, max_depth=15, max_features=sqrt, min_samples_leaf=2, n_estimators=100; total time=  27.9s\n",
      "[CV] END bootstrap=False, max_depth=15, max_features=sqrt, min_samples_leaf=2, n_estimators=100; total time=  21.0s\n",
      "[CV] END bootstrap=False, max_depth=15, max_features=sqrt, min_samples_leaf=3, n_estimators=100; total time=  33.8s\n",
      "[CV] END bootstrap=False, max_depth=15, max_features=sqrt, min_samples_leaf=3, n_estimators=100; total time=  27.5s\n",
      "[CV] END bootstrap=False, max_depth=15, max_features=sqrt, min_samples_leaf=3, n_estimators=100; total time=  12.0s\n",
      "[CV] END bootstrap=False, max_depth=15, max_features=sqrt, min_samples_leaf=3, n_estimators=100; total time=  14.6s\n",
      "[CV] END bootstrap=False, max_depth=15, max_features=sqrt, min_samples_leaf=3, n_estimators=100; total time=  26.4s\n",
      "[CV] END bootstrap=False, max_depth=16, max_features=auto, min_samples_leaf=2, n_estimators=100; total time=  38.5s\n",
      "[CV] END bootstrap=False, max_depth=16, max_features=auto, min_samples_leaf=2, n_estimators=100; total time=  42.4s\n",
      "[CV] END bootstrap=False, max_depth=16, max_features=auto, min_samples_leaf=2, n_estimators=100; total time=  32.3s\n",
      "[CV] END bootstrap=False, max_depth=16, max_features=auto, min_samples_leaf=2, n_estimators=100; total time=  34.2s\n",
      "[CV] END bootstrap=False, max_depth=16, max_features=auto, min_samples_leaf=2, n_estimators=100; total time=  33.3s\n",
      "[CV] END bootstrap=False, max_depth=16, max_features=auto, min_samples_leaf=3, n_estimators=100; total time=  32.1s\n",
      "[CV] END bootstrap=False, max_depth=16, max_features=auto, min_samples_leaf=3, n_estimators=100; total time=  33.7s\n",
      "[CV] END bootstrap=False, max_depth=16, max_features=auto, min_samples_leaf=3, n_estimators=100; total time=  33.0s\n",
      "[CV] END bootstrap=False, max_depth=16, max_features=auto, min_samples_leaf=3, n_estimators=100; total time=  32.9s\n",
      "[CV] END bootstrap=False, max_depth=16, max_features=auto, min_samples_leaf=3, n_estimators=100; total time=  43.5s\n",
      "[CV] END bootstrap=False, max_depth=16, max_features=sqrt, min_samples_leaf=2, n_estimators=100; total time=  15.9s\n",
      "[CV] END bootstrap=False, max_depth=16, max_features=sqrt, min_samples_leaf=2, n_estimators=100; total time=  16.1s\n",
      "[CV] END bootstrap=False, max_depth=16, max_features=sqrt, min_samples_leaf=2, n_estimators=100; total time=  14.8s\n",
      "[CV] END bootstrap=False, max_depth=16, max_features=sqrt, min_samples_leaf=2, n_estimators=100; total time=  14.1s\n",
      "[CV] END bootstrap=False, max_depth=16, max_features=sqrt, min_samples_leaf=2, n_estimators=100; total time=  13.7s\n",
      "[CV] END bootstrap=False, max_depth=16, max_features=sqrt, min_samples_leaf=3, n_estimators=100; total time=  12.8s\n",
      "[CV] END bootstrap=False, max_depth=16, max_features=sqrt, min_samples_leaf=3, n_estimators=100; total time=  15.5s\n",
      "[CV] END bootstrap=False, max_depth=16, max_features=sqrt, min_samples_leaf=3, n_estimators=100; total time=  13.4s\n",
      "[CV] END bootstrap=False, max_depth=16, max_features=sqrt, min_samples_leaf=3, n_estimators=100; total time=  14.5s\n",
      "[CV] END bootstrap=False, max_depth=16, max_features=sqrt, min_samples_leaf=3, n_estimators=100; total time=  15.6s\n",
      "[CV] END bootstrap=False, max_depth=17, max_features=auto, min_samples_leaf=2, n_estimators=100; total time=  41.1s\n",
      "[CV] END bootstrap=False, max_depth=17, max_features=auto, min_samples_leaf=2, n_estimators=100; total time=  40.3s\n"
     ]
    },
    {
     "name": "stdout",
     "output_type": "stream",
     "text": [
      "[CV] END bootstrap=False, max_depth=17, max_features=auto, min_samples_leaf=2, n_estimators=100; total time=  37.7s\n",
      "[CV] END bootstrap=False, max_depth=17, max_features=auto, min_samples_leaf=2, n_estimators=100; total time=  36.4s\n",
      "[CV] END bootstrap=False, max_depth=17, max_features=auto, min_samples_leaf=2, n_estimators=100; total time=  38.0s\n",
      "[CV] END bootstrap=False, max_depth=17, max_features=auto, min_samples_leaf=3, n_estimators=100; total time=  41.4s\n",
      "[CV] END bootstrap=False, max_depth=17, max_features=auto, min_samples_leaf=3, n_estimators=100; total time=  46.0s\n",
      "[CV] END bootstrap=False, max_depth=17, max_features=auto, min_samples_leaf=3, n_estimators=100; total time=  39.6s\n",
      "[CV] END bootstrap=False, max_depth=17, max_features=auto, min_samples_leaf=3, n_estimators=100; total time=  34.9s\n",
      "[CV] END bootstrap=False, max_depth=17, max_features=auto, min_samples_leaf=3, n_estimators=100; total time=  40.2s\n",
      "[CV] END bootstrap=False, max_depth=17, max_features=sqrt, min_samples_leaf=2, n_estimators=100; total time=  15.8s\n",
      "[CV] END bootstrap=False, max_depth=17, max_features=sqrt, min_samples_leaf=2, n_estimators=100; total time=  15.1s\n",
      "[CV] END bootstrap=False, max_depth=17, max_features=sqrt, min_samples_leaf=2, n_estimators=100; total time=  15.9s\n",
      "[CV] END bootstrap=False, max_depth=17, max_features=sqrt, min_samples_leaf=2, n_estimators=100; total time=  16.0s\n",
      "[CV] END bootstrap=False, max_depth=17, max_features=sqrt, min_samples_leaf=2, n_estimators=100; total time=  16.3s\n",
      "[CV] END bootstrap=False, max_depth=17, max_features=sqrt, min_samples_leaf=3, n_estimators=100; total time=  14.8s\n",
      "[CV] END bootstrap=False, max_depth=17, max_features=sqrt, min_samples_leaf=3, n_estimators=100; total time=  14.4s\n",
      "[CV] END bootstrap=False, max_depth=17, max_features=sqrt, min_samples_leaf=3, n_estimators=100; total time=  13.4s\n",
      "[CV] END bootstrap=False, max_depth=17, max_features=sqrt, min_samples_leaf=3, n_estimators=100; total time=  13.8s\n",
      "[CV] END bootstrap=False, max_depth=17, max_features=sqrt, min_samples_leaf=3, n_estimators=100; total time=  14.2s\n"
     ]
    },
    {
     "data": {
      "text/plain": [
       "GridSearchCV(estimator=RandomForestRegressor(bootstrap=15, max_depth=15,\n",
       "                                             min_samples_leaf=3),\n",
       "             param_grid={'bootstrap': [True, False],\n",
       "                         'max_depth': [14, 15, 16, 17],\n",
       "                         'max_features': ['auto', 'sqrt'],\n",
       "                         'min_samples_leaf': [2, 3], 'n_estimators': [100]},\n",
       "             verbose=2)"
      ]
     },
     "execution_count": 108,
     "metadata": {},
     "output_type": "execute_result"
    }
   ],
   "source": [
    "grid2.fit(X_train, y_train)"
   ]
  },
  {
   "cell_type": "code",
   "execution_count": 128,
   "id": "dc3218db",
   "metadata": {
    "collapsed": true
   },
   "outputs": [
    {
     "name": "stdout",
     "output_type": "stream",
     "text": [
      "Fitting 5 folds for each of 6 candidates, totalling 30 fits\n"
     ]
    },
    {
     "data": {
      "text/plain": [
       "GridSearchCV(estimator=RandomForestRegressor(bootstrap=15, max_depth=15,\n",
       "                                             min_samples_leaf=3),\n",
       "             param_grid={'max_depth': [14, 15], 'max_features': ['auto'],\n",
       "                         'min_samples_leaf': [3, 4, 5], 'n_estimators': [100]},\n",
       "             verbose=1)"
      ]
     },
     "execution_count": 128,
     "metadata": {},
     "output_type": "execute_result"
    }
   ],
   "source": [
    "grid3.fit(X_train, y_train)"
   ]
  },
  {
   "cell_type": "code",
   "execution_count": 148,
   "id": "008805ec",
   "metadata": {},
   "outputs": [
    {
     "name": "stdout",
     "output_type": "stream",
     "text": [
      "Fitting 5 folds for each of 6 candidates, totalling 30 fits\n"
     ]
    },
    {
     "data": {
      "text/plain": [
       "GridSearchCV(estimator=RandomForestRegressor(bootstrap=15, max_depth=15,\n",
       "                                             min_samples_leaf=3),\n",
       "             param_grid={'max_depth': [15, 200], 'max_features': ['auto'],\n",
       "                         'min_samples_leaf': [5, 6, 7], 'n_estimators': [100]},\n",
       "             verbose=1)"
      ]
     },
     "execution_count": 148,
     "metadata": {},
     "output_type": "execute_result"
    }
   ],
   "source": [
    "grid4.fit(X_train, y_train)"
   ]
  },
  {
   "cell_type": "code",
   "execution_count": 52,
   "id": "5d26fa23",
   "metadata": {},
   "outputs": [
    {
     "name": "stdout",
     "output_type": "stream",
     "text": [
      "{'bootstrap': True, 'max_depth': 15, 'max_features': 'auto', 'min_samples_leaf': 3, 'n_estimators': 100}\n"
     ]
    }
   ],
   "source": [
    "print(grid.best_params_)"
   ]
  },
  {
   "cell_type": "code",
   "execution_count": 109,
   "id": "369cf8eb",
   "metadata": {},
   "outputs": [
    {
     "name": "stdout",
     "output_type": "stream",
     "text": [
      "{'bootstrap': True, 'max_depth': 14, 'max_features': 'auto', 'min_samples_leaf': 3, 'n_estimators': 100}\n"
     ]
    }
   ],
   "source": [
    "print(grid2.best_params_)"
   ]
  },
  {
   "cell_type": "code",
   "execution_count": 129,
   "id": "c22fac86",
   "metadata": {},
   "outputs": [
    {
     "name": "stdout",
     "output_type": "stream",
     "text": [
      "{'max_depth': 14, 'max_features': 'auto', 'min_samples_leaf': 3, 'n_estimators': 100}\n"
     ]
    }
   ],
   "source": [
    "print(grid3.best_params_)"
   ]
  },
  {
   "cell_type": "code",
   "execution_count": 150,
   "id": "ca1e53f8",
   "metadata": {},
   "outputs": [
    {
     "name": "stdout",
     "output_type": "stream",
     "text": [
      "{'max_depth': 200, 'max_features': 'auto', 'min_samples_leaf': 5, 'n_estimators': 100}\n"
     ]
    }
   ],
   "source": [
    "print(grid4.best_params_)"
   ]
  },
  {
   "cell_type": "code",
   "execution_count": 53,
   "id": "0c212ebb",
   "metadata": {},
   "outputs": [],
   "source": [
    "forest = RandomForestRegressor(bootstrap = 15, max_features = 'auto',max_depth = 15, min_samples_leaf = 3, n_estimators = 100)"
   ]
  },
  {
   "cell_type": "code",
   "execution_count": 110,
   "id": "27950999",
   "metadata": {},
   "outputs": [],
   "source": [
    "forest2 = RandomForestRegressor(bootstrap = 14, max_features = 'auto',max_depth = 15, min_samples_leaf = 3, n_estimators = 100)"
   ]
  },
  {
   "cell_type": "code",
   "execution_count": 131,
   "id": "60b2d65a",
   "metadata": {},
   "outputs": [],
   "source": [
    "forest3 = RandomForestRegressor(bootstrap = True, max_features = 'auto',max_depth = 14, min_samples_leaf = 3, n_estimators = 100)"
   ]
  },
  {
   "cell_type": "code",
   "execution_count": 151,
   "id": "e49d4351",
   "metadata": {},
   "outputs": [],
   "source": [
    "forest4 = RandomForestRegressor(bootstrap = True, max_features = 'auto',max_depth = 200, min_samples_leaf = 5, n_estimators = 100)"
   ]
  },
  {
   "cell_type": "code",
   "execution_count": 54,
   "id": "b425f02c",
   "metadata": {},
   "outputs": [
    {
     "data": {
      "text/plain": [
       "RandomForestRegressor(bootstrap=15, max_depth=15, min_samples_leaf=3)"
      ]
     },
     "execution_count": 54,
     "metadata": {},
     "output_type": "execute_result"
    }
   ],
   "source": [
    "forest.fit(X_train, y_train)"
   ]
  },
  {
   "cell_type": "code",
   "execution_count": 111,
   "id": "a86b2d52",
   "metadata": {},
   "outputs": [
    {
     "data": {
      "text/plain": [
       "RandomForestRegressor(bootstrap=14, max_depth=15, min_samples_leaf=3)"
      ]
     },
     "execution_count": 111,
     "metadata": {},
     "output_type": "execute_result"
    }
   ],
   "source": [
    "forest2.fit(X_train, y_train)"
   ]
  },
  {
   "cell_type": "code",
   "execution_count": 132,
   "id": "3c8d1b34",
   "metadata": {},
   "outputs": [
    {
     "data": {
      "text/plain": [
       "RandomForestRegressor(max_depth=14, min_samples_leaf=3)"
      ]
     },
     "execution_count": 132,
     "metadata": {},
     "output_type": "execute_result"
    }
   ],
   "source": [
    "forest3.fit(X_train, y_train)"
   ]
  },
  {
   "cell_type": "code",
   "execution_count": 152,
   "id": "4f2a9142",
   "metadata": {},
   "outputs": [
    {
     "data": {
      "text/plain": [
       "RandomForestRegressor(max_depth=200, min_samples_leaf=5)"
      ]
     },
     "execution_count": 152,
     "metadata": {},
     "output_type": "execute_result"
    }
   ],
   "source": [
    "forest4.fit(X_train, y_train)"
   ]
  },
  {
   "cell_type": "code",
   "execution_count": 55,
   "id": "56f663bc",
   "metadata": {},
   "outputs": [],
   "source": [
    "y_pred = forest.predict(X_test)"
   ]
  },
  {
   "cell_type": "code",
   "execution_count": 112,
   "id": "e68b5f8e",
   "metadata": {},
   "outputs": [],
   "source": [
    "y_pred2 = forest2.predict(X_train)"
   ]
  },
  {
   "cell_type": "code",
   "execution_count": 133,
   "id": "344889df",
   "metadata": {},
   "outputs": [],
   "source": [
    "y_pred3 = forest3.predict(X_train)"
   ]
  },
  {
   "cell_type": "code",
   "execution_count": 165,
   "id": "291a5c9f",
   "metadata": {},
   "outputs": [],
   "source": [
    "y_pred4 = forest4.predict(X_train)"
   ]
  },
  {
   "cell_type": "code",
   "execution_count": 56,
   "id": "49ee66f2",
   "metadata": {},
   "outputs": [
    {
     "name": "stdout",
     "output_type": "stream",
     "text": [
      "RMSE:  537.8211553504631\n"
     ]
    }
   ],
   "source": [
    "print('RMSE: ', np.sqrt(metrics.mean_squared_error(y_test, y_pred)))"
   ]
  },
  {
   "cell_type": "code",
   "execution_count": 57,
   "id": "8077787f",
   "metadata": {},
   "outputs": [],
   "source": [
    "model2 = forest.fit(X,y)"
   ]
  },
  {
   "cell_type": "code",
   "execution_count": 113,
   "id": "c1a961e4",
   "metadata": {},
   "outputs": [],
   "source": [
    "model4 = forest2.fit(X,y)"
   ]
  },
  {
   "cell_type": "code",
   "execution_count": 134,
   "id": "42986b59",
   "metadata": {},
   "outputs": [],
   "source": [
    "model6 = forest3.fit(X,y)"
   ]
  },
  {
   "cell_type": "code",
   "execution_count": 166,
   "id": "7136913f",
   "metadata": {},
   "outputs": [],
   "source": [
    "model8 = forest4.fit(X,y)"
   ]
  },
  {
   "cell_type": "code",
   "execution_count": 93,
   "id": "7186fbbe",
   "metadata": {},
   "outputs": [],
   "source": [
    "test = pd.read_csv(\"Data/cleantest1.csv\")"
   ]
  },
  {
   "cell_type": "code",
   "execution_count": 135,
   "id": "96e22ad3",
   "metadata": {},
   "outputs": [],
   "source": [
    "test3 = pd.read_csv(\"Data/cleantest1.csv\")"
   ]
  },
  {
   "cell_type": "code",
   "execution_count": 167,
   "id": "0238beb1",
   "metadata": {},
   "outputs": [],
   "source": [
    "test4 = pd.read_csv(\"Data/cleantest1.csv\")"
   ]
  },
  {
   "cell_type": "code",
   "execution_count": 116,
   "id": "8240612c",
   "metadata": {},
   "outputs": [
    {
     "data": {
      "text/html": [
       "<div>\n",
       "<style scoped>\n",
       "    .dataframe tbody tr th:only-of-type {\n",
       "        vertical-align: middle;\n",
       "    }\n",
       "\n",
       "    .dataframe tbody tr th {\n",
       "        vertical-align: top;\n",
       "    }\n",
       "\n",
       "    .dataframe thead th {\n",
       "        text-align: right;\n",
       "    }\n",
       "</style>\n",
       "<table border=\"1\" class=\"dataframe\">\n",
       "  <thead>\n",
       "    <tr style=\"text-align: right;\">\n",
       "      <th></th>\n",
       "      <th>carat</th>\n",
       "      <th>cut</th>\n",
       "      <th>color</th>\n",
       "      <th>clarity</th>\n",
       "      <th>depth</th>\n",
       "      <th>table</th>\n",
       "      <th>price</th>\n",
       "    </tr>\n",
       "    <tr>\n",
       "      <th>id</th>\n",
       "      <th></th>\n",
       "      <th></th>\n",
       "      <th></th>\n",
       "      <th></th>\n",
       "      <th></th>\n",
       "      <th></th>\n",
       "      <th></th>\n",
       "    </tr>\n",
       "  </thead>\n",
       "  <tbody>\n",
       "    <tr>\n",
       "      <th>0</th>\n",
       "      <td>1.00</td>\n",
       "      <td>1</td>\n",
       "      <td>1</td>\n",
       "      <td>5</td>\n",
       "      <td>56.3</td>\n",
       "      <td>64.0</td>\n",
       "      <td>3303.188375</td>\n",
       "    </tr>\n",
       "    <tr>\n",
       "      <th>1</th>\n",
       "      <td>0.83</td>\n",
       "      <td>4</td>\n",
       "      <td>4</td>\n",
       "      <td>6</td>\n",
       "      <td>62.3</td>\n",
       "      <td>58.0</td>\n",
       "      <td>3069.334328</td>\n",
       "    </tr>\n",
       "    <tr>\n",
       "      <th>2</th>\n",
       "      <td>1.00</td>\n",
       "      <td>1</td>\n",
       "      <td>6</td>\n",
       "      <td>5</td>\n",
       "      <td>67.0</td>\n",
       "      <td>53.0</td>\n",
       "      <td>3329.018462</td>\n",
       "    </tr>\n",
       "    <tr>\n",
       "      <th>3</th>\n",
       "      <td>1.00</td>\n",
       "      <td>1</td>\n",
       "      <td>3</td>\n",
       "      <td>5</td>\n",
       "      <td>66.5</td>\n",
       "      <td>62.0</td>\n",
       "      <td>3191.589884</td>\n",
       "    </tr>\n",
       "    <tr>\n",
       "      <th>4</th>\n",
       "      <td>1.20</td>\n",
       "      <td>3</td>\n",
       "      <td>2</td>\n",
       "      <td>6</td>\n",
       "      <td>62.6</td>\n",
       "      <td>57.0</td>\n",
       "      <td>5356.717846</td>\n",
       "    </tr>\n",
       "  </tbody>\n",
       "</table>\n",
       "</div>"
      ],
      "text/plain": [
       "    carat  cut  color  clarity  depth  table        price\n",
       "id                                                       \n",
       "0    1.00    1      1        5   56.3   64.0  3303.188375\n",
       "1    0.83    4      4        6   62.3   58.0  3069.334328\n",
       "2    1.00    1      6        5   67.0   53.0  3329.018462\n",
       "3    1.00    1      3        5   66.5   62.0  3191.589884\n",
       "4    1.20    3      2        6   62.6   57.0  5356.717846"
      ]
     },
     "execution_count": 116,
     "metadata": {},
     "output_type": "execute_result"
    }
   ],
   "source": [
    "test.head()"
   ]
  },
  {
   "cell_type": "code",
   "execution_count": 136,
   "id": "b7d514e6",
   "metadata": {},
   "outputs": [
    {
     "data": {
      "text/plain": [
       "(13485, 6)"
      ]
     },
     "execution_count": 136,
     "metadata": {},
     "output_type": "execute_result"
    }
   ],
   "source": [
    "test3.shape"
   ]
  },
  {
   "cell_type": "code",
   "execution_count": 115,
   "id": "06af1f18",
   "metadata": {},
   "outputs": [
    {
     "data": {
      "text/plain": [
       "(13485, 7)"
      ]
     },
     "execution_count": 115,
     "metadata": {},
     "output_type": "execute_result"
    }
   ],
   "source": [
    "test.shape"
   ]
  },
  {
   "cell_type": "code",
   "execution_count": 118,
   "id": "e9e040a9",
   "metadata": {},
   "outputs": [],
   "source": [
    "test.drop(columns=[\"price\"], inplace=True)"
   ]
  },
  {
   "cell_type": "code",
   "execution_count": 97,
   "id": "cd989d17",
   "metadata": {},
   "outputs": [],
   "source": [
    "price = model2.predict(test)"
   ]
  },
  {
   "cell_type": "code",
   "execution_count": 119,
   "id": "1043e5e7",
   "metadata": {},
   "outputs": [],
   "source": [
    "price2 = model4.predict(test)"
   ]
  },
  {
   "cell_type": "code",
   "execution_count": 138,
   "id": "92092ca9",
   "metadata": {},
   "outputs": [],
   "source": [
    "price3 = model4.predict(test3)"
   ]
  },
  {
   "cell_type": "code",
   "execution_count": 168,
   "id": "ad670c69",
   "metadata": {},
   "outputs": [],
   "source": [
    "price4 = model8.predict(test4)"
   ]
  },
  {
   "cell_type": "code",
   "execution_count": 120,
   "id": "99f65a58",
   "metadata": {},
   "outputs": [],
   "source": [
    "test['price'] = price"
   ]
  },
  {
   "cell_type": "code",
   "execution_count": 139,
   "id": "29c889e7",
   "metadata": {},
   "outputs": [],
   "source": [
    "test3['price'] = price3"
   ]
  },
  {
   "cell_type": "code",
   "execution_count": 169,
   "id": "559a1c0b",
   "metadata": {},
   "outputs": [],
   "source": [
    "test4['price'] = price4"
   ]
  },
  {
   "cell_type": "code",
   "execution_count": 121,
   "id": "739ac7ef",
   "metadata": {},
   "outputs": [
    {
     "data": {
      "text/html": [
       "<div>\n",
       "<style scoped>\n",
       "    .dataframe tbody tr th:only-of-type {\n",
       "        vertical-align: middle;\n",
       "    }\n",
       "\n",
       "    .dataframe tbody tr th {\n",
       "        vertical-align: top;\n",
       "    }\n",
       "\n",
       "    .dataframe thead th {\n",
       "        text-align: right;\n",
       "    }\n",
       "</style>\n",
       "<table border=\"1\" class=\"dataframe\">\n",
       "  <thead>\n",
       "    <tr style=\"text-align: right;\">\n",
       "      <th></th>\n",
       "      <th>carat</th>\n",
       "      <th>cut</th>\n",
       "      <th>color</th>\n",
       "      <th>clarity</th>\n",
       "      <th>depth</th>\n",
       "      <th>table</th>\n",
       "      <th>price</th>\n",
       "    </tr>\n",
       "    <tr>\n",
       "      <th>id</th>\n",
       "      <th></th>\n",
       "      <th></th>\n",
       "      <th></th>\n",
       "      <th></th>\n",
       "      <th></th>\n",
       "      <th></th>\n",
       "      <th></th>\n",
       "    </tr>\n",
       "  </thead>\n",
       "  <tbody>\n",
       "    <tr>\n",
       "      <th>0</th>\n",
       "      <td>1.00</td>\n",
       "      <td>1</td>\n",
       "      <td>1</td>\n",
       "      <td>5</td>\n",
       "      <td>56.3</td>\n",
       "      <td>64.0</td>\n",
       "      <td>3303.188375</td>\n",
       "    </tr>\n",
       "    <tr>\n",
       "      <th>1</th>\n",
       "      <td>0.83</td>\n",
       "      <td>4</td>\n",
       "      <td>4</td>\n",
       "      <td>6</td>\n",
       "      <td>62.3</td>\n",
       "      <td>58.0</td>\n",
       "      <td>3069.334328</td>\n",
       "    </tr>\n",
       "    <tr>\n",
       "      <th>2</th>\n",
       "      <td>1.00</td>\n",
       "      <td>1</td>\n",
       "      <td>6</td>\n",
       "      <td>5</td>\n",
       "      <td>67.0</td>\n",
       "      <td>53.0</td>\n",
       "      <td>3329.018462</td>\n",
       "    </tr>\n",
       "    <tr>\n",
       "      <th>3</th>\n",
       "      <td>1.00</td>\n",
       "      <td>1</td>\n",
       "      <td>3</td>\n",
       "      <td>5</td>\n",
       "      <td>66.5</td>\n",
       "      <td>62.0</td>\n",
       "      <td>3191.589884</td>\n",
       "    </tr>\n",
       "    <tr>\n",
       "      <th>4</th>\n",
       "      <td>1.20</td>\n",
       "      <td>3</td>\n",
       "      <td>2</td>\n",
       "      <td>6</td>\n",
       "      <td>62.6</td>\n",
       "      <td>57.0</td>\n",
       "      <td>5356.717846</td>\n",
       "    </tr>\n",
       "  </tbody>\n",
       "</table>\n",
       "</div>"
      ],
      "text/plain": [
       "    carat  cut  color  clarity  depth  table        price\n",
       "id                                                       \n",
       "0    1.00    1      1        5   56.3   64.0  3303.188375\n",
       "1    0.83    4      4        6   62.3   58.0  3069.334328\n",
       "2    1.00    1      6        5   67.0   53.0  3329.018462\n",
       "3    1.00    1      3        5   66.5   62.0  3191.589884\n",
       "4    1.20    3      2        6   62.6   57.0  5356.717846"
      ]
     },
     "execution_count": 121,
     "metadata": {},
     "output_type": "execute_result"
    }
   ],
   "source": [
    "test.head()"
   ]
  },
  {
   "cell_type": "code",
   "execution_count": 140,
   "id": "a447cbf4",
   "metadata": {
    "scrolled": true
   },
   "outputs": [
    {
     "data": {
      "text/html": [
       "<div>\n",
       "<style scoped>\n",
       "    .dataframe tbody tr th:only-of-type {\n",
       "        vertical-align: middle;\n",
       "    }\n",
       "\n",
       "    .dataframe tbody tr th {\n",
       "        vertical-align: top;\n",
       "    }\n",
       "\n",
       "    .dataframe thead th {\n",
       "        text-align: right;\n",
       "    }\n",
       "</style>\n",
       "<table border=\"1\" class=\"dataframe\">\n",
       "  <thead>\n",
       "    <tr style=\"text-align: right;\">\n",
       "      <th></th>\n",
       "      <th>carat</th>\n",
       "      <th>cut</th>\n",
       "      <th>color</th>\n",
       "      <th>clarity</th>\n",
       "      <th>depth</th>\n",
       "      <th>table</th>\n",
       "      <th>price</th>\n",
       "    </tr>\n",
       "  </thead>\n",
       "  <tbody>\n",
       "    <tr>\n",
       "      <th>0</th>\n",
       "      <td>1.00</td>\n",
       "      <td>1</td>\n",
       "      <td>1</td>\n",
       "      <td>5</td>\n",
       "      <td>56.3</td>\n",
       "      <td>64.0</td>\n",
       "      <td>3296.457004</td>\n",
       "    </tr>\n",
       "    <tr>\n",
       "      <th>1</th>\n",
       "      <td>0.83</td>\n",
       "      <td>4</td>\n",
       "      <td>4</td>\n",
       "      <td>6</td>\n",
       "      <td>62.3</td>\n",
       "      <td>58.0</td>\n",
       "      <td>3046.889142</td>\n",
       "    </tr>\n",
       "    <tr>\n",
       "      <th>2</th>\n",
       "      <td>1.00</td>\n",
       "      <td>1</td>\n",
       "      <td>6</td>\n",
       "      <td>5</td>\n",
       "      <td>67.0</td>\n",
       "      <td>53.0</td>\n",
       "      <td>3340.810663</td>\n",
       "    </tr>\n",
       "    <tr>\n",
       "      <th>3</th>\n",
       "      <td>1.00</td>\n",
       "      <td>1</td>\n",
       "      <td>3</td>\n",
       "      <td>5</td>\n",
       "      <td>66.5</td>\n",
       "      <td>62.0</td>\n",
       "      <td>3162.066993</td>\n",
       "    </tr>\n",
       "    <tr>\n",
       "      <th>4</th>\n",
       "      <td>1.20</td>\n",
       "      <td>3</td>\n",
       "      <td>2</td>\n",
       "      <td>6</td>\n",
       "      <td>62.6</td>\n",
       "      <td>57.0</td>\n",
       "      <td>5398.056514</td>\n",
       "    </tr>\n",
       "  </tbody>\n",
       "</table>\n",
       "</div>"
      ],
      "text/plain": [
       "   carat  cut  color  clarity  depth  table        price\n",
       "0   1.00    1      1        5   56.3   64.0  3296.457004\n",
       "1   0.83    4      4        6   62.3   58.0  3046.889142\n",
       "2   1.00    1      6        5   67.0   53.0  3340.810663\n",
       "3   1.00    1      3        5   66.5   62.0  3162.066993\n",
       "4   1.20    3      2        6   62.6   57.0  5398.056514"
      ]
     },
     "execution_count": 140,
     "metadata": {},
     "output_type": "execute_result"
    }
   ],
   "source": [
    "test3.head()"
   ]
  },
  {
   "cell_type": "code",
   "execution_count": 170,
   "id": "47958ee4",
   "metadata": {
    "collapsed": true
   },
   "outputs": [
    {
     "data": {
      "text/html": [
       "<div>\n",
       "<style scoped>\n",
       "    .dataframe tbody tr th:only-of-type {\n",
       "        vertical-align: middle;\n",
       "    }\n",
       "\n",
       "    .dataframe tbody tr th {\n",
       "        vertical-align: top;\n",
       "    }\n",
       "\n",
       "    .dataframe thead th {\n",
       "        text-align: right;\n",
       "    }\n",
       "</style>\n",
       "<table border=\"1\" class=\"dataframe\">\n",
       "  <thead>\n",
       "    <tr style=\"text-align: right;\">\n",
       "      <th></th>\n",
       "      <th>carat</th>\n",
       "      <th>cut</th>\n",
       "      <th>color</th>\n",
       "      <th>clarity</th>\n",
       "      <th>depth</th>\n",
       "      <th>table</th>\n",
       "      <th>price</th>\n",
       "    </tr>\n",
       "  </thead>\n",
       "  <tbody>\n",
       "    <tr>\n",
       "      <th>0</th>\n",
       "      <td>1.00</td>\n",
       "      <td>1</td>\n",
       "      <td>1</td>\n",
       "      <td>5</td>\n",
       "      <td>56.3</td>\n",
       "      <td>64.0</td>\n",
       "      <td>3292.952280</td>\n",
       "    </tr>\n",
       "    <tr>\n",
       "      <th>1</th>\n",
       "      <td>0.83</td>\n",
       "      <td>4</td>\n",
       "      <td>4</td>\n",
       "      <td>6</td>\n",
       "      <td>62.3</td>\n",
       "      <td>58.0</td>\n",
       "      <td>2982.091263</td>\n",
       "    </tr>\n",
       "    <tr>\n",
       "      <th>2</th>\n",
       "      <td>1.00</td>\n",
       "      <td>1</td>\n",
       "      <td>6</td>\n",
       "      <td>5</td>\n",
       "      <td>67.0</td>\n",
       "      <td>53.0</td>\n",
       "      <td>3379.307379</td>\n",
       "    </tr>\n",
       "    <tr>\n",
       "      <th>3</th>\n",
       "      <td>1.00</td>\n",
       "      <td>1</td>\n",
       "      <td>3</td>\n",
       "      <td>5</td>\n",
       "      <td>66.5</td>\n",
       "      <td>62.0</td>\n",
       "      <td>3132.649582</td>\n",
       "    </tr>\n",
       "    <tr>\n",
       "      <th>4</th>\n",
       "      <td>1.20</td>\n",
       "      <td>3</td>\n",
       "      <td>2</td>\n",
       "      <td>6</td>\n",
       "      <td>62.6</td>\n",
       "      <td>57.0</td>\n",
       "      <td>5356.771390</td>\n",
       "    </tr>\n",
       "  </tbody>\n",
       "</table>\n",
       "</div>"
      ],
      "text/plain": [
       "   carat  cut  color  clarity  depth  table        price\n",
       "0   1.00    1      1        5   56.3   64.0  3292.952280\n",
       "1   0.83    4      4        6   62.3   58.0  2982.091263\n",
       "2   1.00    1      6        5   67.0   53.0  3379.307379\n",
       "3   1.00    1      3        5   66.5   62.0  3132.649582\n",
       "4   1.20    3      2        6   62.6   57.0  5356.771390"
      ]
     },
     "execution_count": 170,
     "metadata": {},
     "output_type": "execute_result"
    }
   ],
   "source": [
    "test4.head()"
   ]
  },
  {
   "cell_type": "code",
   "execution_count": 122,
   "id": "685fb0d4",
   "metadata": {},
   "outputs": [],
   "source": [
    "finaldf = test.drop(['carat', 'cut', 'color', 'clarity', 'depth', 'table'], axis=1)"
   ]
  },
  {
   "cell_type": "code",
   "execution_count": 123,
   "id": "30cb1f5a",
   "metadata": {},
   "outputs": [],
   "source": [
    "finaldf.index.rename('id', inplace=True)"
   ]
  },
  {
   "cell_type": "code",
   "execution_count": 124,
   "id": "41675ef9",
   "metadata": {},
   "outputs": [
    {
     "data": {
      "text/html": [
       "<div>\n",
       "<style scoped>\n",
       "    .dataframe tbody tr th:only-of-type {\n",
       "        vertical-align: middle;\n",
       "    }\n",
       "\n",
       "    .dataframe tbody tr th {\n",
       "        vertical-align: top;\n",
       "    }\n",
       "\n",
       "    .dataframe thead th {\n",
       "        text-align: right;\n",
       "    }\n",
       "</style>\n",
       "<table border=\"1\" class=\"dataframe\">\n",
       "  <thead>\n",
       "    <tr style=\"text-align: right;\">\n",
       "      <th></th>\n",
       "      <th>price</th>\n",
       "    </tr>\n",
       "    <tr>\n",
       "      <th>id</th>\n",
       "      <th></th>\n",
       "    </tr>\n",
       "  </thead>\n",
       "  <tbody>\n",
       "    <tr>\n",
       "      <th>7773</th>\n",
       "      <td>1651.770598</td>\n",
       "    </tr>\n",
       "    <tr>\n",
       "      <th>12882</th>\n",
       "      <td>6140.017452</td>\n",
       "    </tr>\n",
       "    <tr>\n",
       "      <th>4077</th>\n",
       "      <td>3524.152348</td>\n",
       "    </tr>\n",
       "    <tr>\n",
       "      <th>8439</th>\n",
       "      <td>15458.718443</td>\n",
       "    </tr>\n",
       "    <tr>\n",
       "      <th>12710</th>\n",
       "      <td>12917.058928</td>\n",
       "    </tr>\n",
       "  </tbody>\n",
       "</table>\n",
       "</div>"
      ],
      "text/plain": [
       "              price\n",
       "id                 \n",
       "7773    1651.770598\n",
       "12882   6140.017452\n",
       "4077    3524.152348\n",
       "8439   15458.718443\n",
       "12710  12917.058928"
      ]
     },
     "execution_count": 124,
     "metadata": {},
     "output_type": "execute_result"
    }
   ],
   "source": [
    "finaldf.sample(5)"
   ]
  },
  {
   "cell_type": "code",
   "execution_count": 144,
   "id": "aec73d0e",
   "metadata": {},
   "outputs": [],
   "source": [
    "finaldf.to_csv('Data/finaldf1.csv')"
   ]
  },
  {
   "cell_type": "code",
   "execution_count": null,
   "id": "de380641",
   "metadata": {},
   "outputs": [],
   "source": []
  },
  {
   "cell_type": "code",
   "execution_count": 141,
   "id": "edd6595f",
   "metadata": {},
   "outputs": [],
   "source": [
    "finaldf3 = test3.drop(['carat', 'cut', 'color', 'clarity', 'depth', 'table'], axis=1)"
   ]
  },
  {
   "cell_type": "code",
   "execution_count": 142,
   "id": "5989c4f1",
   "metadata": {},
   "outputs": [],
   "source": [
    "finaldf3.index.rename('id', inplace=True)"
   ]
  },
  {
   "cell_type": "code",
   "execution_count": 143,
   "id": "2bed5a2b",
   "metadata": {},
   "outputs": [
    {
     "data": {
      "text/html": [
       "<div>\n",
       "<style scoped>\n",
       "    .dataframe tbody tr th:only-of-type {\n",
       "        vertical-align: middle;\n",
       "    }\n",
       "\n",
       "    .dataframe tbody tr th {\n",
       "        vertical-align: top;\n",
       "    }\n",
       "\n",
       "    .dataframe thead th {\n",
       "        text-align: right;\n",
       "    }\n",
       "</style>\n",
       "<table border=\"1\" class=\"dataframe\">\n",
       "  <thead>\n",
       "    <tr style=\"text-align: right;\">\n",
       "      <th></th>\n",
       "      <th>price</th>\n",
       "    </tr>\n",
       "    <tr>\n",
       "      <th>id</th>\n",
       "      <th></th>\n",
       "    </tr>\n",
       "  </thead>\n",
       "  <tbody>\n",
       "    <tr>\n",
       "      <th>6761</th>\n",
       "      <td>1548.657602</td>\n",
       "    </tr>\n",
       "    <tr>\n",
       "      <th>9393</th>\n",
       "      <td>17047.456410</td>\n",
       "    </tr>\n",
       "    <tr>\n",
       "      <th>8870</th>\n",
       "      <td>915.214450</td>\n",
       "    </tr>\n",
       "    <tr>\n",
       "      <th>2483</th>\n",
       "      <td>2649.245311</td>\n",
       "    </tr>\n",
       "    <tr>\n",
       "      <th>11021</th>\n",
       "      <td>877.772913</td>\n",
       "    </tr>\n",
       "  </tbody>\n",
       "</table>\n",
       "</div>"
      ],
      "text/plain": [
       "              price\n",
       "id                 \n",
       "6761    1548.657602\n",
       "9393   17047.456410\n",
       "8870     915.214450\n",
       "2483    2649.245311\n",
       "11021    877.772913"
      ]
     },
     "execution_count": 143,
     "metadata": {},
     "output_type": "execute_result"
    }
   ],
   "source": [
    "finaldf3.sample(5)"
   ]
  },
  {
   "cell_type": "code",
   "execution_count": 145,
   "id": "d0af1c9c",
   "metadata": {},
   "outputs": [],
   "source": [
    "finaldf3.to_csv('Data/finaldf3.csv')"
   ]
  },
  {
   "cell_type": "code",
   "execution_count": null,
   "id": "ff479bd0",
   "metadata": {},
   "outputs": [],
   "source": []
  },
  {
   "cell_type": "code",
   "execution_count": 171,
   "id": "43a475dd",
   "metadata": {},
   "outputs": [],
   "source": [
    "finaldf4 = test4.drop(['carat', 'cut', 'color', 'clarity', 'depth', 'table'], axis=1)"
   ]
  },
  {
   "cell_type": "code",
   "execution_count": 172,
   "id": "164d6daf",
   "metadata": {},
   "outputs": [],
   "source": [
    "finaldf4.index.rename('id', inplace=True)"
   ]
  },
  {
   "cell_type": "code",
   "execution_count": 173,
   "id": "8a37ebca",
   "metadata": {},
   "outputs": [
    {
     "data": {
      "text/html": [
       "<div>\n",
       "<style scoped>\n",
       "    .dataframe tbody tr th:only-of-type {\n",
       "        vertical-align: middle;\n",
       "    }\n",
       "\n",
       "    .dataframe tbody tr th {\n",
       "        vertical-align: top;\n",
       "    }\n",
       "\n",
       "    .dataframe thead th {\n",
       "        text-align: right;\n",
       "    }\n",
       "</style>\n",
       "<table border=\"1\" class=\"dataframe\">\n",
       "  <thead>\n",
       "    <tr style=\"text-align: right;\">\n",
       "      <th></th>\n",
       "      <th>price</th>\n",
       "    </tr>\n",
       "    <tr>\n",
       "      <th>id</th>\n",
       "      <th></th>\n",
       "    </tr>\n",
       "  </thead>\n",
       "  <tbody>\n",
       "    <tr>\n",
       "      <th>10547</th>\n",
       "      <td>2801.701136</td>\n",
       "    </tr>\n",
       "    <tr>\n",
       "      <th>3282</th>\n",
       "      <td>5508.986261</td>\n",
       "    </tr>\n",
       "    <tr>\n",
       "      <th>8332</th>\n",
       "      <td>1654.191833</td>\n",
       "    </tr>\n",
       "    <tr>\n",
       "      <th>8610</th>\n",
       "      <td>6602.817733</td>\n",
       "    </tr>\n",
       "    <tr>\n",
       "      <th>8471</th>\n",
       "      <td>2283.928861</td>\n",
       "    </tr>\n",
       "  </tbody>\n",
       "</table>\n",
       "</div>"
      ],
      "text/plain": [
       "             price\n",
       "id                \n",
       "10547  2801.701136\n",
       "3282   5508.986261\n",
       "8332   1654.191833\n",
       "8610   6602.817733\n",
       "8471   2283.928861"
      ]
     },
     "execution_count": 173,
     "metadata": {},
     "output_type": "execute_result"
    }
   ],
   "source": [
    "finaldf4.sample(5)"
   ]
  },
  {
   "cell_type": "code",
   "execution_count": 174,
   "id": "3528e3c7",
   "metadata": {},
   "outputs": [],
   "source": [
    "finaldf4.to_csv('Data/finaldf4.csv')"
   ]
  }
 ],
 "metadata": {
  "kernelspec": {
   "display_name": "Python 3",
   "language": "python",
   "name": "python3"
  },
  "language_info": {
   "codemirror_mode": {
    "name": "ipython",
    "version": 3
   },
   "file_extension": ".py",
   "mimetype": "text/x-python",
   "name": "python",
   "nbconvert_exporter": "python",
   "pygments_lexer": "ipython3",
   "version": "3.8.8"
  }
 },
 "nbformat": 4,
 "nbformat_minor": 5
}
